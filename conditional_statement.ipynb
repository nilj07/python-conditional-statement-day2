{
 "cells": [
  {
   "cell_type": "code",
   "execution_count": 2,
   "id": "91d677e3-3f6e-4e2e-8375-97e9d4f0cdbd",
   "metadata": {},
   "outputs": [],
   "source": [
    "# consitional statememnt"
   ]
  },
  {
   "cell_type": "code",
   "execution_count": 6,
   "id": "4273299f-1fe6-49cc-8330-135040f9194f",
   "metadata": {},
   "outputs": [],
   "source": [
    "#if else, elif"
   ]
  },
  {
   "cell_type": "code",
   "execution_count": 1,
   "id": "2a9a85c4-1805-4559-ab24-631f28d17f8c",
   "metadata": {},
   "outputs": [],
   "source": [
    "a=50\n",
    "b=250"
   ]
  },
  {
   "cell_type": "code",
   "execution_count": 2,
   "id": "8e142d73-9419-4e6c-a511-7c3ba7269954",
   "metadata": {},
   "outputs": [
    {
     "name": "stdout",
     "output_type": "stream",
     "text": [
      "b is greater than b\n"
     ]
    }
   ],
   "source": [
    "if(a<b):\n",
    "    print(\"b is greater than b\")\n",
    "else:\n",
    "    print(\"a is greater than b\")"
   ]
  },
  {
   "cell_type": "code",
   "execution_count": null,
   "id": "cb7d5209-1829-4c69-870d-6e60212bd209",
   "metadata": {},
   "outputs": [],
   "source": []
  },
  {
   "cell_type": "code",
   "execution_count": 4,
   "id": "d3b7d068-0e2f-4974-87cf-1283809d1243",
   "metadata": {},
   "outputs": [
    {
     "name": "stdin",
     "output_type": "stream",
     "text": [
      "enter age 52\n"
     ]
    },
    {
     "name": "stdout",
     "output_type": "stream",
     "text": [
      "you are 18+\n"
     ]
    }
   ],
   "source": [
    "age = int(input(\"enter age\"))\n",
    "\n",
    "if(age<18):\n",
    "    print(\"you are under 18\")\n",
    "elif(age==18):\n",
    "    print(\"now you are 18\")\n",
    "else:\n",
    "    print(\"you are 18+\")"
   ]
  },
  {
   "cell_type": "code",
   "execution_count": 5,
   "id": "9b19b17b-260b-49b0-9e14-0cab0b3d1fc8",
   "metadata": {},
   "outputs": [],
   "source": [
    "# Q.value positive or negative"
   ]
  },
  {
   "cell_type": "code",
   "execution_count": 19,
   "id": "e19701d4-fff0-46e3-9a2a-a190ad487711",
   "metadata": {},
   "outputs": [
    {
     "name": "stdin",
     "output_type": "stream",
     "text": [
      "enter value -4\n"
     ]
    },
    {
     "name": "stdout",
     "output_type": "stream",
     "text": [
      "value is negative\n"
     ]
    }
   ],
   "source": [
    "userval = int(input(\"enter value\"))\n",
    "if(userval<=0):\n",
    "    print(\"value is negative\")\n",
    "else:\n",
    "    print(\"value is positive\")"
   ]
  },
  {
   "cell_type": "code",
   "execution_count": 6,
   "id": "0fe3d0de-8605-48fd-8e37-5146174c19c8",
   "metadata": {},
   "outputs": [],
   "source": [
    "# Q. even odd"
   ]
  },
  {
   "cell_type": "code",
   "execution_count": 1,
   "id": "56bddea1-c79d-4787-9818-d68002f87651",
   "metadata": {},
   "outputs": [
    {
     "name": "stdin",
     "output_type": "stream",
     "text": [
      "enter value 5\n"
     ]
    },
    {
     "name": "stdout",
     "output_type": "stream",
     "text": [
      "given number is odd\n"
     ]
    }
   ],
   "source": [
    "userinput = int(input(\"enter value\"))\n",
    "if(userinput%2==0):\n",
    "    print(\"given number is even\")\n",
    "else:\n",
    "    print(\"given number is odd\")"
   ]
  },
  {
   "cell_type": "code",
   "execution_count": 7,
   "id": "caf27a36-7f52-4c34-9433-9292253fd2bd",
   "metadata": {},
   "outputs": [],
   "source": [
    "# Q. find score"
   ]
  },
  {
   "cell_type": "code",
   "execution_count": 8,
   "id": "f06fd234-7e88-4ad9-b240-538b484016f5",
   "metadata": {},
   "outputs": [
    {
     "name": "stdout",
     "output_type": "stream",
     "text": [
      "grade: A\n"
     ]
    }
   ],
   "source": [
    "score = 95\n",
    "\n",
    "if(score>=90):\n",
    "    print(\"grade: A\")\n",
    "elif(score>=80):\n",
    "    print(\"grade: B\")\n",
    "elif(score>=70):\n",
    "    print(\"grade: C\")\n",
    "elif(score>60):\n",
    "    print(\"grade: D\")\n",
    "else:\n",
    "    print(\"grade: F\")"
   ]
  },
  {
   "cell_type": "code",
   "execution_count": 6,
   "id": "ca11b3e2-1375-4188-b307-63fffb6bd13f",
   "metadata": {},
   "outputs": [],
   "source": [
    "# Q. leap year check"
   ]
  },
  {
   "cell_type": "code",
   "execution_count": 15,
   "id": "c2646dd0-9a79-4efe-a4c3-78d899a0d5cc",
   "metadata": {},
   "outputs": [
    {
     "name": "stdin",
     "output_type": "stream",
     "text": [
      "Enter a year 2014\n"
     ]
    },
    {
     "name": "stdout",
     "output_type": "stream",
     "text": [
      "this is not leap year\n"
     ]
    }
   ],
   "source": [
    "year = int(input(\"Enter a year\"))\n",
    "\n",
    "if(year%4 == 0):\n",
    "    print(\"this year is leap year\")\n",
    "else:\n",
    "    print(\"this is not leap year\")"
   ]
  },
  {
   "cell_type": "code",
   "execution_count": 16,
   "id": "0279419f-eb20-4e47-bf5b-f4075bc8e06f",
   "metadata": {},
   "outputs": [],
   "source": [
    "# Q. loan approval"
   ]
  },
  {
   "cell_type": "code",
   "execution_count": 24,
   "id": "eeb0419b-daa9-4fe1-afb7-755824d131a1",
   "metadata": {},
   "outputs": [
    {
     "name": "stdout",
     "output_type": "stream",
     "text": [
      "congratulations! your loan approved\n"
     ]
    }
   ],
   "source": [
    "credit_score = 720\n",
    "income = 40000\n",
    "loan_amount = 200000\n",
    "\n",
    "if(credit_score >= 700):\n",
    "    if(income>=40000):\n",
    "        if(loan_amount <= income * 5):\n",
    "            print(\"congratulations! your loan approved\")\n",
    "        else:\n",
    "            print(\"Loan denied, amount exceeds limit\")\n",
    "    else:\n",
    "        print(\"loan denied due to low income\")\n",
    "else:\n",
    "    print(\"loan aplication reject due to low credit score\")\n",
    "        "
   ]
  },
  {
   "cell_type": "markdown",
   "id": "5715bfd6-4730-4208-a164-0a9a227eda1e",
   "metadata": {},
   "source": []
  }
 ],
 "metadata": {
  "kernelspec": {
   "display_name": "Python [conda env:base] *",
   "language": "python",
   "name": "conda-base-py"
  },
  "language_info": {
   "codemirror_mode": {
    "name": "ipython",
    "version": 3
   },
   "file_extension": ".py",
   "mimetype": "text/x-python",
   "name": "python",
   "nbconvert_exporter": "python",
   "pygments_lexer": "ipython3",
   "version": "3.12.7"
  }
 },
 "nbformat": 4,
 "nbformat_minor": 5
}
